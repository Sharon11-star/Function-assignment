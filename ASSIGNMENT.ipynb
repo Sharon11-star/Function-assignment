{
 "cells": [
  {
   "cell_type": "code",
   "execution_count": 1,
   "id": "7a7c877a-9e3c-454b-83cd-ffa43843af04",
   "metadata": {},
   "outputs": [],
   "source": [
    "#1. DIFFERENCE BETWEEN A FUNCTION AND A METHOD IN PYTHON\n",
    "#Functions are independent block of code that can be called from anywhere where as methods are ties to objects or classes\n",
    "#Functions promote code reusability , while methods offer behaviour specific to objects.\n",
    "#Functions are called by names whereas methods are accessed using dot notation\n",
    "#function is a block of code which performs some specifc task\n",
    "#FUNCTION EXAMPLE\n",
    "def greetings():\n",
    "    return(\"hello, how are you ?\")"
   ]
  },
  {
   "cell_type": "code",
   "execution_count": 2,
   "id": "c288a8a9-600d-4240-a57d-4f78bdbbe4b7",
   "metadata": {},
   "outputs": [
    {
     "data": {
      "text/plain": [
       "'hello, how are you ?'"
      ]
     },
     "execution_count": 2,
     "metadata": {},
     "output_type": "execute_result"
    }
   ],
   "source": [
    "greetings()"
   ]
  },
  {
   "cell_type": "code",
   "execution_count": 3,
   "id": "a6c29ad8-2dd9-4c23-b0ef-16b8ab9fa200",
   "metadata": {},
   "outputs": [],
   "source": [
    "#2. CONCEPT OF FUNCTION ARGUMENTS AND PARAMETERS\n",
    "#Iformation can be passed into functions as arguments.\n",
    "#Arguments are specified after the function name , inside the paranthesis.\n",
    "#We can add as many arguments as we want , just separate them commas.\n",
    "#for example\n",
    "def greetings():\n",
    "    return(\"how are you ?\")\n"
   ]
  },
  {
   "cell_type": "code",
   "execution_count": 4,
   "id": "052fc90f-c042-4178-b8ab-e7069ceb9434",
   "metadata": {},
   "outputs": [
    {
     "data": {
      "text/plain": [
       "'how are you ?'"
      ]
     },
     "execution_count": 4,
     "metadata": {},
     "output_type": "execute_result"
    }
   ],
   "source": [
    "greetings()#here if u have to welcome a lot of people then you hav to write the argument again and again."
   ]
  },
  {
   "cell_type": "code",
   "execution_count": 5,
   "id": "f7389c3d-7bfe-4f7b-8500-0ee4b58e12b8",
   "metadata": {},
   "outputs": [],
   "source": [
    "#Instead of this you can simply write\n",
    "def greetings(name):\n",
    "    return(\"how are you ?\" , name)"
   ]
  },
  {
   "cell_type": "code",
   "execution_count": 6,
   "id": "d6e58180-7570-4e75-8dc0-f249a397999b",
   "metadata": {},
   "outputs": [
    {
     "data": {
      "text/plain": [
       "('how are you ?', 'sharon')"
      ]
     },
     "execution_count": 6,
     "metadata": {},
     "output_type": "execute_result"
    }
   ],
   "source": [
    "greetings(\"sharon\")"
   ]
  },
  {
   "cell_type": "code",
   "execution_count": 7,
   "id": "d75cf7ef-a9d0-4b3e-ad78-9e4f97b90a2f",
   "metadata": {},
   "outputs": [
    {
     "data": {
      "text/plain": [
       "('how are you ?', 'aman')"
      ]
     },
     "execution_count": 7,
     "metadata": {},
     "output_type": "execute_result"
    }
   ],
   "source": [
    "greetings(\"aman\")"
   ]
  },
  {
   "cell_type": "code",
   "execution_count": 9,
   "id": "e10aee75-d67d-4b76-8d9a-93c495abef5e",
   "metadata": {},
   "outputs": [],
   "source": [
    "#here we can call as many arguments as we want \n",
    "def greetings(name , place):\n",
    "    return(\"how are you\" , name, \"from\", place)"
   ]
  },
  {
   "cell_type": "code",
   "execution_count": 10,
   "id": "30b38b7c-2ea9-4c85-a659-70b8f76d9456",
   "metadata": {},
   "outputs": [
    {
     "data": {
      "text/plain": [
       "('how are you', 'sharon', 'from', 'jhansi')"
      ]
     },
     "execution_count": 10,
     "metadata": {},
     "output_type": "execute_result"
    }
   ],
   "source": [
    "greetings(\"sharon\" , \"jhansi\")"
   ]
  },
  {
   "cell_type": "code",
   "execution_count": 11,
   "id": "97fd7544-0078-4767-b6b4-2a494fd67b93",
   "metadata": {},
   "outputs": [],
   "source": [
    "##DEFAULT ARGUMENT\n",
    "#it works when the variable in a function has no value.\n",
    "#it passed to a function in the last\n",
    "#for example\n",
    "def marks(a , b = 0):\n",
    "    return a+b"
   ]
  },
  {
   "cell_type": "code",
   "execution_count": 12,
   "id": "3f969001-b555-4304-bf91-b13e1607afea",
   "metadata": {},
   "outputs": [
    {
     "data": {
      "text/plain": [
       "5"
      ]
     },
     "execution_count": 12,
     "metadata": {},
     "output_type": "execute_result"
    }
   ],
   "source": [
    "marks(5)"
   ]
  },
  {
   "cell_type": "code",
   "execution_count": 13,
   "id": "28accf0a-1cdd-4531-a275-8b360d99a104",
   "metadata": {},
   "outputs": [],
   "source": [
    "def sum(a , b, c=0):\n",
    "    return a+b+c"
   ]
  },
  {
   "cell_type": "code",
   "execution_count": 14,
   "id": "368a2edd-9dc1-42c3-ad94-9b2171c02f97",
   "metadata": {},
   "outputs": [
    {
     "data": {
      "text/plain": [
       "9"
      ]
     },
     "execution_count": 14,
     "metadata": {},
     "output_type": "execute_result"
    }
   ],
   "source": [
    "sum(4,5)"
   ]
  },
  {
   "cell_type": "code",
   "execution_count": 15,
   "id": "bdd3de6a-7cb2-46b1-9c20-5bebf645e37e",
   "metadata": {},
   "outputs": [],
   "source": [
    "#3. WAYS OF DEFINING A FUNCTION \n",
    "#(i) The first step is to use a python keyword \"def\" then write the name of the function\n",
    "#(ii) The second step is to write the argument\n",
    "#(iii) The third step is to write the body of the function. it means whatever computation you have to do\n",
    "#(iv) The last step is to use the return keyword so that you receive the value as it is , in inverted commas\n",
    "#for example\n",
    "def students(name , marks):\n",
    "    return(name , \"has scored\", marks)"
   ]
  },
  {
   "cell_type": "code",
   "execution_count": 16,
   "id": "ce1fbe81-ab14-44ef-b37d-357b5bb34ac7",
   "metadata": {},
   "outputs": [
    {
     "data": {
      "text/plain": [
       "('sharon', 'has scored', 90)"
      ]
     },
     "execution_count": 16,
     "metadata": {},
     "output_type": "execute_result"
    }
   ],
   "source": [
    "students(\"sharon\" , 90)"
   ]
  },
  {
   "cell_type": "code",
   "execution_count": 17,
   "id": "fbaee2cf-a904-4361-88e4-5241a01404ac",
   "metadata": {},
   "outputs": [
    {
     "data": {
      "text/plain": [
       "('aman', 'has scored', 80)"
      ]
     },
     "execution_count": 17,
     "metadata": {},
     "output_type": "execute_result"
    }
   ],
   "source": [
    "students(\"aman\" , 80)"
   ]
  },
  {
   "cell_type": "code",
   "execution_count": 18,
   "id": "8a818ae2-757d-413b-adbf-cf9b65696ad1",
   "metadata": {},
   "outputs": [
    {
     "data": {
      "text/plain": [
       "('sofia', 'has scored', 70)"
      ]
     },
     "execution_count": 18,
     "metadata": {},
     "output_type": "execute_result"
    }
   ],
   "source": [
    "students(\"sofia\" , 70)"
   ]
  },
  {
   "cell_type": "code",
   "execution_count": 19,
   "id": "be23b169-dbf3-4c40-852f-bbdd3520e589",
   "metadata": {},
   "outputs": [],
   "source": [
    "# 4. PURPOSE OF RETURN FUNCTION\n",
    "#When you use 'print' in function then it just prints the value without the inverted commas \n",
    "#But when you use return in python the it gives the value in the same way u write it in a function\n",
    "#it returns any value such as strings, integer, float, complex.\n",
    "#you cannot concatenate a function without using return\n",
    "#for example\n",
    "def assign():\n",
    "    print(\"I am sharon\")"
   ]
  },
  {
   "cell_type": "code",
   "execution_count": 20,
   "id": "4857d655-c102-44e9-9346-e64a5dcce849",
   "metadata": {},
   "outputs": [
    {
     "name": "stdout",
     "output_type": "stream",
     "text": [
      "I am sharon\n"
     ]
    }
   ],
   "source": [
    "assign()"
   ]
  },
  {
   "cell_type": "code",
   "execution_count": 21,
   "id": "99b36f7c-c2df-4b2f-938c-ec253769181d",
   "metadata": {},
   "outputs": [
    {
     "name": "stdout",
     "output_type": "stream",
     "text": [
      "I am sharon\n"
     ]
    },
    {
     "ename": "TypeError",
     "evalue": "unsupported operand type(s) for +: 'NoneType' and 'str'",
     "output_type": "error",
     "traceback": [
      "\u001b[0;31m---------------------------------------------------------------------------\u001b[0m",
      "\u001b[0;31mTypeError\u001b[0m                                 Traceback (most recent call last)",
      "Cell \u001b[0;32mIn[21], line 1\u001b[0m\n\u001b[0;32m----> 1\u001b[0m \u001b[43massign\u001b[49m\u001b[43m(\u001b[49m\u001b[43m)\u001b[49m\u001b[43m \u001b[49m\u001b[38;5;241;43m+\u001b[39;49m\u001b[43m \u001b[49m\u001b[38;5;124;43m\"\u001b[39;49m\u001b[38;5;124;43mfrancis\u001b[39;49m\u001b[38;5;124;43m\"\u001b[39;49m\n",
      "\u001b[0;31mTypeError\u001b[0m: unsupported operand type(s) for +: 'NoneType' and 'str'"
     ]
    }
   ],
   "source": [
    "assign() + \"francis\""
   ]
  },
  {
   "cell_type": "code",
   "execution_count": 22,
   "id": "0818c861-bb47-4981-a17a-9620721d8206",
   "metadata": {},
   "outputs": [],
   "source": [
    "##now when u use return\n",
    "def assign():\n",
    "    return(\"I am sharon\")"
   ]
  },
  {
   "cell_type": "code",
   "execution_count": 23,
   "id": "083f43fd-7b5f-4a4d-805a-a0b47d6a72b8",
   "metadata": {},
   "outputs": [
    {
     "data": {
      "text/plain": [
       "'I am sharon'"
      ]
     },
     "execution_count": 23,
     "metadata": {},
     "output_type": "execute_result"
    }
   ],
   "source": [
    "assign()"
   ]
  },
  {
   "cell_type": "code",
   "execution_count": 24,
   "id": "059d1305-be4e-4362-99d0-cf0bba8dba2c",
   "metadata": {},
   "outputs": [
    {
     "data": {
      "text/plain": [
       "'I am sharon francis'"
      ]
     },
     "execution_count": 24,
     "metadata": {},
     "output_type": "execute_result"
    }
   ],
   "source": [
    "assign() + \" \"  \"francis\""
   ]
  },
  {
   "cell_type": "code",
   "execution_count": 25,
   "id": "bf44cc6f-c745-481f-bba7-9a6353fdb5a7",
   "metadata": {},
   "outputs": [],
   "source": [
    "# 5. ITERATORS\n",
    "#It is an object which represents a stream of data\n",
    "#it returns the data one by one\n",
    "#it can iterate over iterable objects such as lists , tuples , dictionary and sets\n",
    "\n",
    "#ITERABLES\n",
    "#It is any python object or sequencial structure or data structure that is capable of returning its members one at a time\n",
    "#it gives the element one by one\n",
    "#iterable objects such as lists , tuples , dictionary , sets\n",
    "#for example\n",
    "list = [1 , 2,  3 ,\"sharon\" , \"aman\" , \"sofia\"]"
   ]
  },
  {
   "cell_type": "code",
   "execution_count": 26,
   "id": "2a4bf93b-3294-40ca-afdd-a3b925b883f9",
   "metadata": {},
   "outputs": [
    {
     "data": {
      "text/plain": [
       "[1, 2, 3, 'sharon', 'aman', 'sofia']"
      ]
     },
     "execution_count": 26,
     "metadata": {},
     "output_type": "execute_result"
    }
   ],
   "source": [
    "list"
   ]
  },
  {
   "cell_type": "code",
   "execution_count": 27,
   "id": "fa2d949c-cfd8-4011-9327-d27eb6621d48",
   "metadata": {},
   "outputs": [
    {
     "name": "stdout",
     "output_type": "stream",
     "text": [
      "1\n",
      "2\n",
      "3\n",
      "sharon\n",
      "aman\n",
      "sofia\n"
     ]
    }
   ],
   "source": [
    "for i in list:\n",
    "    print(i)"
   ]
  },
  {
   "cell_type": "code",
   "execution_count": 28,
   "id": "174ee967-d4ac-4681-9634-6d209db92cc9",
   "metadata": {},
   "outputs": [],
   "source": [
    "#6. GENERATORS\n",
    "#It is a function thata returns an iterator using 'yeild' keyword\n",
    "#it does not return the valule in one go\n",
    "#it generates the result one by one which does not result in more usage of memory\n",
    "#it does not take a lot of time for computation\n",
    "#for example\n",
    "def square(n):\n",
    "    result = []\n",
    "    for i in range (n):\n",
    "        result.append(i**2)\n",
    "    return result"
   ]
  },
  {
   "cell_type": "code",
   "execution_count": 29,
   "id": "984e59ac-e0af-47b7-bb6d-4c33a3546124",
   "metadata": {},
   "outputs": [
    {
     "data": {
      "text/plain": [
       "[0, 1, 4, 9, 16, 25, 36, 49, 64, 81]"
      ]
     },
     "execution_count": 29,
     "metadata": {},
     "output_type": "execute_result"
    }
   ],
   "source": [
    "square(10)#here the regular function is providing the result in one go."
   ]
  },
  {
   "cell_type": "code",
   "execution_count": 30,
   "id": "48fabc9f-a9c4-4799-9635-f0a494e432f8",
   "metadata": {},
   "outputs": [],
   "source": [
    "##but when we use generator function\n",
    "def square(n):\n",
    "    for i in range (n):\n",
    "        yield(i**2)"
   ]
  },
  {
   "cell_type": "code",
   "execution_count": 31,
   "id": "0c9acd0a-80bc-4367-82e2-bd6b95565613",
   "metadata": {},
   "outputs": [
    {
     "data": {
      "text/plain": [
       "<generator object square at 0x761b5452ca50>"
      ]
     },
     "execution_count": 31,
     "metadata": {},
     "output_type": "execute_result"
    }
   ],
   "source": [
    "square(10)"
   ]
  },
  {
   "cell_type": "code",
   "execution_count": 32,
   "id": "bd793d57-f806-4c04-a61c-4802199d1b0d",
   "metadata": {},
   "outputs": [],
   "source": [
    "gen = square(10)"
   ]
  },
  {
   "cell_type": "code",
   "execution_count": 33,
   "id": "359cd5c4-bbba-4455-bedb-1257d727371d",
   "metadata": {},
   "outputs": [
    {
     "data": {
      "text/plain": [
       "<generator object square at 0x761b5452cc80>"
      ]
     },
     "execution_count": 33,
     "metadata": {},
     "output_type": "execute_result"
    }
   ],
   "source": [
    "gen"
   ]
  },
  {
   "cell_type": "code",
   "execution_count": 34,
   "id": "d9164d6a-761e-4370-9fb9-cfe06393fd37",
   "metadata": {},
   "outputs": [
    {
     "data": {
      "text/plain": [
       "0"
      ]
     },
     "execution_count": 34,
     "metadata": {},
     "output_type": "execute_result"
    }
   ],
   "source": [
    "next(gen)"
   ]
  },
  {
   "cell_type": "code",
   "execution_count": 35,
   "id": "ca93cb4a-07ee-4c28-baf9-9af20d66448e",
   "metadata": {},
   "outputs": [
    {
     "data": {
      "text/plain": [
       "1"
      ]
     },
     "execution_count": 35,
     "metadata": {},
     "output_type": "execute_result"
    }
   ],
   "source": [
    "next(gen)"
   ]
  },
  {
   "cell_type": "code",
   "execution_count": 36,
   "id": "c5ead201-76eb-424a-a1ea-97154596db0c",
   "metadata": {},
   "outputs": [
    {
     "data": {
      "text/plain": [
       "4"
      ]
     },
     "execution_count": 36,
     "metadata": {},
     "output_type": "execute_result"
    }
   ],
   "source": [
    "next(gen)"
   ]
  },
  {
   "cell_type": "code",
   "execution_count": 37,
   "id": "b36d7381-80ab-4125-8b11-a6008ced9d2b",
   "metadata": {},
   "outputs": [
    {
     "data": {
      "text/plain": [
       "9"
      ]
     },
     "execution_count": 37,
     "metadata": {},
     "output_type": "execute_result"
    }
   ],
   "source": [
    "next(gen)"
   ]
  },
  {
   "cell_type": "code",
   "execution_count": 38,
   "id": "14534c9a-9431-472e-94a3-eb8f1e37a8b5",
   "metadata": {},
   "outputs": [],
   "source": [
    "#7. ADVANTAGES OF USING GENERATOR FUNCTIONS \n",
    "#without generators in python, producing iteratables is very difficult and lengthy\n",
    "#memory is saved as result is produce one at a time unlike regular functions in python\n",
    "#generators do not take a lot of time for computation , unlike regular functions which use a lot of memory and time\n",
    "#regular functions produce the result in one go whereas genefator function produces the result one by one\n",
    "#for example\n",
    "def sum(a):\n",
    "    result = []\n",
    "    for i in range(a):\n",
    "        result.append(i+3)\n",
    "    return result    "
   ]
  },
  {
   "cell_type": "code",
   "execution_count": 39,
   "id": "63fa2fef-9984-44b6-9b7b-46e9da8bca85",
   "metadata": {},
   "outputs": [
    {
     "data": {
      "text/plain": [
       "[3, 4, 5, 6, 7, 8, 9, 10, 11, 12, 13, 14, 15, 16, 17, 18, 19, 20, 21, 22]"
      ]
     },
     "execution_count": 39,
     "metadata": {},
     "output_type": "execute_result"
    }
   ],
   "source": [
    "sum(20)"
   ]
  },
  {
   "cell_type": "code",
   "execution_count": 40,
   "id": "20bdadb4-56a7-41ff-845d-46a59253e097",
   "metadata": {},
   "outputs": [],
   "source": [
    "def sum(a):\n",
    "    for i in range(a):\n",
    "        yield(i+3)"
   ]
  },
  {
   "cell_type": "code",
   "execution_count": 41,
   "id": "94aabffb-3a43-4076-8fd6-1e3774df3f96",
   "metadata": {},
   "outputs": [
    {
     "data": {
      "text/plain": [
       "<generator object sum at 0x761b5452d930>"
      ]
     },
     "execution_count": 41,
     "metadata": {},
     "output_type": "execute_result"
    }
   ],
   "source": [
    "sum(20)"
   ]
  },
  {
   "cell_type": "code",
   "execution_count": 42,
   "id": "1aa43e36-405c-4983-9f5d-24805ba551c5",
   "metadata": {},
   "outputs": [],
   "source": [
    "s = sum(20)"
   ]
  },
  {
   "cell_type": "code",
   "execution_count": 43,
   "id": "62a44c36-b74a-4deb-8c68-07079a51fb2e",
   "metadata": {},
   "outputs": [
    {
     "data": {
      "text/plain": [
       "<generator object sum at 0x761b5452e030>"
      ]
     },
     "execution_count": 43,
     "metadata": {},
     "output_type": "execute_result"
    }
   ],
   "source": [
    "s"
   ]
  },
  {
   "cell_type": "code",
   "execution_count": 44,
   "id": "b19c2ca6-2554-4c7e-b46f-36333c1a92c1",
   "metadata": {},
   "outputs": [
    {
     "data": {
      "text/plain": [
       "3"
      ]
     },
     "execution_count": 44,
     "metadata": {},
     "output_type": "execute_result"
    }
   ],
   "source": [
    "next(s)"
   ]
  },
  {
   "cell_type": "code",
   "execution_count": 45,
   "id": "c0096ba1-cd39-40c1-af9b-996b09f191f7",
   "metadata": {},
   "outputs": [
    {
     "data": {
      "text/plain": [
       "4"
      ]
     },
     "execution_count": 45,
     "metadata": {},
     "output_type": "execute_result"
    }
   ],
   "source": [
    "next(s)"
   ]
  },
  {
   "cell_type": "code",
   "execution_count": 46,
   "id": "62ac525b-4485-4624-b25b-81b3c170cfbf",
   "metadata": {},
   "outputs": [
    {
     "data": {
      "text/plain": [
       "5"
      ]
     },
     "execution_count": 46,
     "metadata": {},
     "output_type": "execute_result"
    }
   ],
   "source": [
    "next(s)"
   ]
  },
  {
   "cell_type": "code",
   "execution_count": 47,
   "id": "8e6d4b93-ccda-4ba4-998c-1cff5aa5fb5c",
   "metadata": {},
   "outputs": [],
   "source": [
    "#8. LAMBDA FUNCTION\n",
    "#It is also known as anonymous or short hand function\n",
    "#In lambda function we don't need the 'return' statement and 'def' keyword\n",
    "#It converts the function of 2 lines into 1 line function that is why is it called short hand function\n",
    "#syntax:\n",
    "#lambda arguments:expressions\n",
    "#for example\n",
    "def sum(n):\n",
    "    return(n+5)"
   ]
  },
  {
   "cell_type": "code",
   "execution_count": 48,
   "id": "b120a4d7-5801-4f1b-9475-b3d4061ff616",
   "metadata": {},
   "outputs": [
    {
     "data": {
      "text/plain": [
       "14"
      ]
     },
     "execution_count": 48,
     "metadata": {},
     "output_type": "execute_result"
    }
   ],
   "source": [
    "sum(9)"
   ]
  },
  {
   "cell_type": "code",
   "execution_count": 49,
   "id": "70d83899-2f06-4c1a-9243-4ff498f4696f",
   "metadata": {},
   "outputs": [],
   "source": [
    "##now usig lambda function\n",
    "sum_lambda = lambda n: n+5"
   ]
  },
  {
   "cell_type": "code",
   "execution_count": 50,
   "id": "a2fa73aa-eeae-4800-92d4-b4e33edcbfa1",
   "metadata": {},
   "outputs": [
    {
     "data": {
      "text/plain": [
       "24"
      ]
     },
     "execution_count": 50,
     "metadata": {},
     "output_type": "execute_result"
    }
   ],
   "source": [
    "sum_lambda(19)"
   ]
  },
  {
   "cell_type": "code",
   "execution_count": 51,
   "id": "5d0bd349-0b7d-44a1-93f5-f2d730894fa1",
   "metadata": {},
   "outputs": [
    {
     "data": {
      "text/plain": [
       "['sharon', 'aman', 'sofia', 'allen']"
      ]
     },
     "execution_count": 51,
     "metadata": {},
     "output_type": "execute_result"
    }
   ],
   "source": [
    "#for example\n",
    "list1 = [\"sharon\" , \"aman\" , \"sofia\" , \"allen\"]\n",
    "list1"
   ]
  },
  {
   "cell_type": "code",
   "execution_count": 52,
   "id": "36bfc084-741d-4a1e-a80e-546efb84a799",
   "metadata": {},
   "outputs": [],
   "source": [
    "list1 = lambda list1: len(list1)"
   ]
  },
  {
   "cell_type": "code",
   "execution_count": 53,
   "id": "ae9908b5-09f5-440b-b89f-3fd67b0cd4ec",
   "metadata": {},
   "outputs": [
    {
     "data": {
      "text/plain": [
       "6"
      ]
     },
     "execution_count": 53,
     "metadata": {},
     "output_type": "execute_result"
    }
   ],
   "source": [
    "list1(\"sharon\")"
   ]
  },
  {
   "cell_type": "code",
   "execution_count": 54,
   "id": "2e3e00c2-cc83-4954-8288-0ba2c4064ae1",
   "metadata": {},
   "outputs": [
    {
     "data": {
      "text/plain": [
       "5"
      ]
     },
     "execution_count": 54,
     "metadata": {},
     "output_type": "execute_result"
    }
   ],
   "source": [
    "list1(\"allen\")"
   ]
  },
  {
   "cell_type": "code",
   "execution_count": 55,
   "id": "e4322caf-757b-42d9-8e0e-275041b3afd1",
   "metadata": {},
   "outputs": [],
   "source": [
    "#9. MAP FUNCTION\n",
    "#It executes a specified function for each of the item of an iterable\n",
    "#it takes the iterables and the custom function as input and apply it to each of the element of the iterable\n",
    "#syntax\n",
    "#map(function , iterables)\n",
    "#we can pass one or more iterable to the map function\n",
    "#for example\n",
    "\n",
    "def square(a):\n",
    "    sq = []\n",
    "    for i in a:\n",
    "        sq.append(i**2)\n",
    "    return sq\n",
    "a = [1 , 2 , 3, 4 , 5]    "
   ]
  },
  {
   "cell_type": "code",
   "execution_count": 56,
   "id": "89be9892-2410-4a43-a2df-de590ddb7f63",
   "metadata": {},
   "outputs": [
    {
     "data": {
      "text/plain": [
       "[1, 4, 9, 16, 25]"
      ]
     },
     "execution_count": 56,
     "metadata": {},
     "output_type": "execute_result"
    }
   ],
   "source": [
    "square(a)"
   ]
  },
  {
   "cell_type": "code",
   "execution_count": 57,
   "id": "96fd8d49-9da2-4304-8187-ba32361da157",
   "metadata": {},
   "outputs": [],
   "source": [
    "#now using the map function\n",
    "l = [1 ,2, 3 , 4, 5]\n",
    "def add(x):\n",
    "    return x+10"
   ]
  },
  {
   "cell_type": "code",
   "execution_count": 58,
   "id": "9e5661ea-9914-4291-ac95-c2455f676a67",
   "metadata": {},
   "outputs": [
    {
     "data": {
      "text/plain": [
       "<map at 0x761b547a7dc0>"
      ]
     },
     "execution_count": 58,
     "metadata": {},
     "output_type": "execute_result"
    }
   ],
   "source": [
    "map(add ,l)"
   ]
  },
  {
   "cell_type": "code",
   "execution_count": 59,
   "id": "5de40cf0-ae00-4f6d-b9cb-68842db38376",
   "metadata": {},
   "outputs": [],
   "source": [
    "a = map(add,l)"
   ]
  },
  {
   "cell_type": "code",
   "execution_count": 60,
   "id": "9281c566-b152-498c-8d65-0f5b5550d616",
   "metadata": {},
   "outputs": [
    {
     "data": {
      "text/plain": [
       "11"
      ]
     },
     "execution_count": 60,
     "metadata": {},
     "output_type": "execute_result"
    }
   ],
   "source": [
    "next(a)"
   ]
  },
  {
   "cell_type": "code",
   "execution_count": 61,
   "id": "4e875a2e-cfb4-43f4-9519-b2b921736bde",
   "metadata": {},
   "outputs": [
    {
     "data": {
      "text/plain": [
       "12"
      ]
     },
     "execution_count": 61,
     "metadata": {},
     "output_type": "execute_result"
    }
   ],
   "source": [
    "next(a)"
   ]
  },
  {
   "cell_type": "code",
   "execution_count": 62,
   "id": "93925024-58ec-4ed2-a6b0-a8ab3d2dd7b1",
   "metadata": {},
   "outputs": [
    {
     "data": {
      "text/plain": [
       "13"
      ]
     },
     "execution_count": 62,
     "metadata": {},
     "output_type": "execute_result"
    }
   ],
   "source": [
    "next(a)"
   ]
  },
  {
   "cell_type": "code",
   "execution_count": 63,
   "id": "7bdbf72d-dace-45d7-b5cf-36539492f9b4",
   "metadata": {},
   "outputs": [],
   "source": [
    "#10. DIFFERENCE BETWEEN MAP , REDUCE AN DFILTER ELEMENTS\n",
    "#MAP - It executes a specified function for each of the item of an iterable\n",
    "#it takes the iterables and the custom function as input and apply it to each of the element of the iterable\n",
    "#syntax\n",
    "#map(function , iterables)\n",
    "#we can pass one or more iterable to the map function\n",
    "#for example\n",
    "\n",
    "def square(a):\n",
    "    sq = []\n",
    "    for i in a:\n",
    "        sq.append(i**2)\n",
    "    return sq\n",
    "a = [1 , 2 , 3, 4 , 5]   "
   ]
  },
  {
   "cell_type": "code",
   "execution_count": 64,
   "id": "e34f0e1d-df9f-421a-97d1-a104acda292e",
   "metadata": {},
   "outputs": [
    {
     "data": {
      "text/plain": [
       "[1, 4, 9, 16, 25]"
      ]
     },
     "execution_count": 64,
     "metadata": {},
     "output_type": "execute_result"
    }
   ],
   "source": [
    "square(a)"
   ]
  },
  {
   "cell_type": "code",
   "execution_count": 65,
   "id": "445349f8-b548-488b-b1ab-ea87c215850b",
   "metadata": {},
   "outputs": [],
   "source": [
    "#now using the map function\n",
    "l = [1 ,2, 3 , 4, 5]\n",
    "def add(x):\n",
    "    return x+10"
   ]
  },
  {
   "cell_type": "code",
   "execution_count": 66,
   "id": "7db71428-66ef-4414-91a5-49b5e263e1e1",
   "metadata": {},
   "outputs": [
    {
     "data": {
      "text/plain": [
       "<map at 0x761b547905e0>"
      ]
     },
     "execution_count": 66,
     "metadata": {},
     "output_type": "execute_result"
    }
   ],
   "source": [
    "map(add ,l)"
   ]
  },
  {
   "cell_type": "code",
   "execution_count": 67,
   "id": "64e74d20-d518-4252-841e-9dc99a1ceea7",
   "metadata": {},
   "outputs": [],
   "source": [
    "a = map(add , l)"
   ]
  },
  {
   "cell_type": "code",
   "execution_count": 68,
   "id": "c92e25c0-0c3f-417b-aff1-c9858f78406e",
   "metadata": {},
   "outputs": [
    {
     "data": {
      "text/plain": [
       "11"
      ]
     },
     "execution_count": 68,
     "metadata": {},
     "output_type": "execute_result"
    }
   ],
   "source": [
    "next(a)"
   ]
  },
  {
   "cell_type": "code",
   "execution_count": 69,
   "id": "8bdc6478-e578-4109-9a24-f0de49e02c76",
   "metadata": {},
   "outputs": [
    {
     "data": {
      "text/plain": [
       "12"
      ]
     },
     "execution_count": 69,
     "metadata": {},
     "output_type": "execute_result"
    }
   ],
   "source": [
    "next(a)"
   ]
  },
  {
   "cell_type": "code",
   "execution_count": 70,
   "id": "015a80d7-6b46-4059-8088-c5490e8b5f37",
   "metadata": {},
   "outputs": [
    {
     "ename": "NameError",
     "evalue": "name 'reduce' is not defined",
     "output_type": "error",
     "traceback": [
      "\u001b[0;31m---------------------------------------------------------------------------\u001b[0m",
      "\u001b[0;31mNameError\u001b[0m                                 Traceback (most recent call last)",
      "Cell \u001b[0;32mIn[70], line 8\u001b[0m\n\u001b[1;32m      1\u001b[0m \u001b[38;5;66;03m##REDUCE - it means folding or reducing\u001b[39;00m\n\u001b[1;32m      2\u001b[0m \u001b[38;5;66;03m#it is not a python keyword so you have to import it from a library\u001b[39;00m\n\u001b[1;32m      3\u001b[0m \u001b[38;5;66;03m#syntax:\u001b[39;00m\n\u001b[1;32m      4\u001b[0m \u001b[38;5;66;03m#reduce(func ,iterables)\u001b[39;00m\n\u001b[1;32m      5\u001b[0m \u001b[38;5;66;03m#it will always take 2 argument function\u001b[39;00m\n\u001b[1;32m      6\u001b[0m \u001b[38;5;66;03m#for example\u001b[39;00m\n\u001b[1;32m      7\u001b[0m l \u001b[38;5;241m=\u001b[39m [\u001b[38;5;241m2\u001b[39m , \u001b[38;5;241m3\u001b[39m,  \u001b[38;5;241m4\u001b[39m, \u001b[38;5;241m5\u001b[39m, \u001b[38;5;241m6\u001b[39m,\u001b[38;5;241m7\u001b[39m]\n\u001b[0;32m----> 8\u001b[0m \u001b[43mreduce\u001b[49m(\u001b[38;5;28;01mlambda\u001b[39;00m x, y : x\u001b[38;5;241m+\u001b[39my , l)\n",
      "\u001b[0;31mNameError\u001b[0m: name 'reduce' is not defined"
     ]
    }
   ],
   "source": [
    "##REDUCE - it means folding or reducing\n",
    "#it is not a python keyword so you have to import it from a library\n",
    "#syntax:\n",
    "#reduce(func ,iterables)\n",
    "#it will always take 2 argument function\n",
    "#for example\n",
    "l = [2 , 3,  4, 5, 6,7]\n",
    "reduce(lambda x, y : x+y , l)"
   ]
  },
  {
   "cell_type": "code",
   "execution_count": 71,
   "id": "58e0d015-d9f1-4b80-a49f-19e47a54d698",
   "metadata": {},
   "outputs": [
    {
     "data": {
      "text/plain": [
       "<filter at 0x761b547a7160>"
      ]
     },
     "execution_count": 71,
     "metadata": {},
     "output_type": "execute_result"
    }
   ],
   "source": [
    "##FILTER- it is used to filter elements from an iterable based on some condition\n",
    "#syntax\n",
    "#filter(func , iterables)\n",
    "#for example\n",
    "l = [1 , 2 , 3 , 4, 5 , 6, 7, 8, 9 , 10]\n",
    "filter(lambda x : x%2 == 0 , l)"
   ]
  },
  {
   "cell_type": "code",
   "execution_count": 72,
   "id": "de37ef11-c92b-4b2b-bc56-436a593b5386",
   "metadata": {},
   "outputs": [],
   "source": [
    "a = filter(lambda x : x%2 == 0 , l)"
   ]
  },
  {
   "cell_type": "code",
   "execution_count": 73,
   "id": "924e9eb2-78f8-439b-98ce-eae18c7257b8",
   "metadata": {},
   "outputs": [
    {
     "data": {
      "text/plain": [
       "2"
      ]
     },
     "execution_count": 73,
     "metadata": {},
     "output_type": "execute_result"
    }
   ],
   "source": [
    "next(a)"
   ]
  },
  {
   "cell_type": "code",
   "execution_count": 74,
   "id": "c0b91f59-8ef7-4a3a-8bea-956a558fd4cb",
   "metadata": {},
   "outputs": [
    {
     "data": {
      "text/plain": [
       "4"
      ]
     },
     "execution_count": 74,
     "metadata": {},
     "output_type": "execute_result"
    }
   ],
   "source": [
    "next(a)"
   ]
  },
  {
   "cell_type": "code",
   "execution_count": 75,
   "id": "125c2724-2b00-4d65-855d-69e257a9b21e",
   "metadata": {},
   "outputs": [
    {
     "data": {
      "text/plain": [
       "6"
      ]
     },
     "execution_count": 75,
     "metadata": {},
     "output_type": "execute_result"
    }
   ],
   "source": [
    "next(a)"
   ]
  },
  {
   "cell_type": "code",
   "execution_count": null,
   "id": "bee2397b-aab0-4045-9938-e74cca5e3b53",
   "metadata": {},
   "outputs": [],
   "source": []
  }
 ],
 "metadata": {
  "kernelspec": {
   "display_name": "Python 3 (ipykernel)",
   "language": "python",
   "name": "python3"
  },
  "language_info": {
   "codemirror_mode": {
    "name": "ipython",
    "version": 3
   },
   "file_extension": ".py",
   "mimetype": "text/x-python",
   "name": "python",
   "nbconvert_exporter": "python",
   "pygments_lexer": "ipython3",
   "version": "3.10.8"
  }
 },
 "nbformat": 4,
 "nbformat_minor": 5
}
